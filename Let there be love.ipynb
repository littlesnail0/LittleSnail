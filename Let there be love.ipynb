{
 "cells": [
  {
   "cell_type": "markdown",
   "metadata": {},
   "source": [
    "# Let there be love"
   ]
  },
  {
   "cell_type": "code",
   "execution_count": 27,
   "metadata": {},
   "outputs": [
    {
     "name": "stdout",
     "output_type": "stream",
     "text": [
      "\"刘一雄，你还记得黄嘉琪这号人吗?\"Begin at: 2017-11-25 16:21\n",
      "\"想你了，又不知道说什么\"Time at: 2017-12-05 00:02\n",
      "第一次想你花了9天\n",
      "--------------------------------------------\n",
      "我突然想说的是我想和你, \r\n",
      "谈\r\n",
      "恋\r\n",
      "爱\r\n",
      "Time at: 2017-12-05 00:02\n",
      "第一次say love 花了13天\n",
      "--------------------------------------------\n",
      "第一次说出来\n",
      "--------------------------------------------\n",
      "此时此刻, Now at: 2018-02-13 19:52\n",
      "到情人节这一天, 恰好80天\n"
     ]
    }
   ],
   "source": [
    "# 关于时间\n",
    "import datetime\n",
    "start = datetime.datetime(2017, 11, 25, 16, 21)\n",
    "first_miss_u = datetime.datetime(2017, 12, 5, 0, 2)\n",
    "first_love = datetime.datetime(2017, 12, 9, 0, 46)\n",
    "now = datetime.datetime(2018, 2, 14, 8, 59)\n",
    "days = (datetime.datetime.now() - start).days\n",
    "seconds = (datetime.datetime.now() - start).seconds\n",
    "seconds_2 = (now - start).total_seconds()\n",
    "print(\"\\\"刘一雄，你还记得黄嘉琪这号人吗?\\\"\" + \"Begin at: \" + start.strftime(\"%Y-%m-%d %H:%M\"))\n",
    "print(\"\\\"想你了，又不知道说什么\\\"\" + \"Time at: \" + first_miss_u.strftime(\"%Y-%m-%d %H:%M\"))\n",
    "\n",
    "print(\"第一次想你花了{}天\".format((first_miss_u - start).days))\n",
    "print(\"--------------------------------------------\")\n",
    "\n",
    "print(\"我突然想说的是我想和你, \\r\\n谈\\r\\n恋\\r\\n爱\\r\\n\" + \"Time at: \" + first_miss_u.strftime(\"%Y-%m-%d %H:%M\"))\n",
    "print(\"第一次say love 花了{}天\".format((first_love - start).days))\n",
    "print(\"--------------------------------------------\")\n",
    "print(\"第一次说出来\")\n",
    "print(\"--------------------------------------------\")\n",
    "print(\"此时此刻, Now at: \" + datetime.datetime.now().strftime(\"%Y-%m-%d %H:%M\"))\n",
    "print(\"到情人节这一天, 恰好{}天\".format((datetime.datetime.now() - start).days))"
   ]
  },
  {
   "cell_type": "code",
   "execution_count": 37,
   "metadata": {},
   "outputs": [
    {
     "name": "stdout",
     "output_type": "stream",
     "text": [
      "/home/lyerox/LittleSnail/jpgs\n"
     ]
    }
   ],
   "source": [
    "cd ../jpgs/"
   ]
  },
  {
   "cell_type": "code",
   "execution_count": 38,
   "metadata": {},
   "outputs": [
    {
     "data": {
      "text/plain": [
       "'/home/lyerox/LittleSnail/jpgs'"
      ]
     },
     "execution_count": 38,
     "metadata": {},
     "output_type": "execute_result"
    }
   ],
   "source": [
    "pwd"
   ]
  },
  {
   "cell_type": "code",
   "execution_count": 39,
   "metadata": {},
   "outputs": [],
   "source": [
    "import PIL.Image as Image\n",
    "import os, sys\n",
    "\n",
    "mw = 133\n",
    "ms = 5\n",
    "msize = mw * ms\n",
    "toImage = Image.new('RGBA', (msize, msize))\n",
    "i = 0\n",
    "for y in range(1, 6):\n",
    "    for x in range(1, 6):\n",
    "        fname = '{}.jpg'.format(ms*(y-1)+x)\n",
    "        fromImage = Image.open(fname)\n",
    "        fromImage = fromImage.resize((mw, mw), Image.ANTIALIAS)\n",
    "        toImage.paste(fromImage, ((x-1) *mw, (y-1) * mw))\n",
    "        \n",
    "toImage.save('love.jpg')"
   ]
  }
 ],
 "metadata": {
  "kernelspec": {
   "display_name": "Python 3",
   "language": "python",
   "name": "python3"
  },
  "language_info": {
   "codemirror_mode": {
    "name": "ipython",
    "version": 3
   },
   "file_extension": ".py",
   "mimetype": "text/x-python",
   "name": "python",
   "nbconvert_exporter": "python",
   "pygments_lexer": "ipython3",
   "version": "3.5.4rc1"
  }
 },
 "nbformat": 4,
 "nbformat_minor": 2
}
